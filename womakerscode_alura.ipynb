{
 "cells": [
  {
   "cell_type": "markdown",
   "id": "b8c13ffa-e0b5-4275-92f2-ceed8314b142",
   "metadata": {
    "jp-MarkdownHeadingCollapsed": true,
    "tags": []
   },
   "source": [
    "# \"Palavra não é privilégio de algumas pessoas, mas o direito de todos\" - Paulo Freire"
   ]
  },
  {
   "cell_type": "code",
   "execution_count": 7,
   "id": "bbae2cd1-eee0-4e42-8a6a-497a01884df0",
   "metadata": {
    "tags": []
   },
   "outputs": [
    {
     "data": {
      "text/html": [
       "<iframe width=\"560\" height=\"315\" src=\"https://www.youtube.com/embed/Ah-I05ezx1I\"</iframe>\n"
      ],
      "text/plain": [
       "<IPython.core.display.HTML object>"
      ]
     },
     "metadata": {},
     "output_type": "display_data"
    }
   ],
   "source": [
    "%%HTML\n",
    "<iframe width=\"560\" height=\"315\" src=\"https://www.youtube.com/embed/Ah-I05ezx1I\"</iframe>"
   ]
  },
  {
   "cell_type": "markdown",
   "id": "c750f202-4d89-4c40-af3b-973867c6b789",
   "metadata": {
    "tags": []
   },
   "source": [
    "# Instalação das bibliotecas"
   ]
  },
  {
   "cell_type": "code",
   "execution_count": 188,
   "id": "480464d5-5bfb-44fe-9fc8-68d08ccbc795",
   "metadata": {
    "tags": []
   },
   "outputs": [
    {
     "name": "stderr",
     "output_type": "stream",
     "text": [
      "189162.74s - pydevd: Sending message related to process being replaced timed-out after 5 seconds\n"
     ]
    },
    {
     "name": "stdout",
     "output_type": "stream",
     "text": [
      "Requirement already satisfied: numpy in /Users/joaojunior/.pyenv/versions/alura/lib/python3.10/site-packages (1.24.2)\n",
      "\n",
      "\u001b[1m[\u001b[0m\u001b[34;49mnotice\u001b[0m\u001b[1;39;49m]\u001b[0m\u001b[39;49m A new release of pip is available: \u001b[0m\u001b[31;49m23.0\u001b[0m\u001b[39;49m -> \u001b[0m\u001b[32;49m23.0.1\u001b[0m\n",
      "\u001b[1m[\u001b[0m\u001b[34;49mnotice\u001b[0m\u001b[1;39;49m]\u001b[0m\u001b[39;49m To update, run: \u001b[0m\u001b[32;49mpip install --upgrade pip\u001b[0m\n"
     ]
    },
    {
     "name": "stderr",
     "output_type": "stream",
     "text": [
      "189168.96s - pydevd: Sending message related to process being replaced timed-out after 5 seconds\n"
     ]
    },
    {
     "name": "stdout",
     "output_type": "stream",
     "text": [
      "Requirement already satisfied: pandas in /Users/joaojunior/.pyenv/versions/alura/lib/python3.10/site-packages (1.5.3)\n",
      "Requirement already satisfied: pytz>=2020.1 in /Users/joaojunior/.pyenv/versions/alura/lib/python3.10/site-packages (from pandas) (2022.7.1)\n",
      "Requirement already satisfied: python-dateutil>=2.8.1 in /Users/joaojunior/.pyenv/versions/alura/lib/python3.10/site-packages (from pandas) (2.8.2)\n",
      "Requirement already satisfied: numpy>=1.21.0 in /Users/joaojunior/.pyenv/versions/alura/lib/python3.10/site-packages (from pandas) (1.24.2)\n",
      "Requirement already satisfied: six>=1.5 in /Users/joaojunior/.pyenv/versions/alura/lib/python3.10/site-packages (from python-dateutil>=2.8.1->pandas) (1.16.0)\n",
      "\n",
      "\u001b[1m[\u001b[0m\u001b[34;49mnotice\u001b[0m\u001b[1;39;49m]\u001b[0m\u001b[39;49m A new release of pip is available: \u001b[0m\u001b[31;49m23.0\u001b[0m\u001b[39;49m -> \u001b[0m\u001b[32;49m23.0.1\u001b[0m\n",
      "\u001b[1m[\u001b[0m\u001b[34;49mnotice\u001b[0m\u001b[1;39;49m]\u001b[0m\u001b[39;49m To update, run: \u001b[0m\u001b[32;49mpip install --upgrade pip\u001b[0m\n"
     ]
    },
    {
     "name": "stderr",
     "output_type": "stream",
     "text": [
      "189175.31s - pydevd: Sending message related to process being replaced timed-out after 5 seconds\n"
     ]
    },
    {
     "name": "stdout",
     "output_type": "stream",
     "text": [
      "Requirement already satisfied: matplotlib in /Users/joaojunior/.pyenv/versions/alura/lib/python3.10/site-packages (3.7.1)\n",
      "Requirement already satisfied: cycler>=0.10 in /Users/joaojunior/.pyenv/versions/alura/lib/python3.10/site-packages (from matplotlib) (0.11.0)\n",
      "Requirement already satisfied: pyparsing>=2.3.1 in /Users/joaojunior/.pyenv/versions/alura/lib/python3.10/site-packages (from matplotlib) (3.0.9)\n",
      "Requirement already satisfied: pillow>=6.2.0 in /Users/joaojunior/.pyenv/versions/alura/lib/python3.10/site-packages (from matplotlib) (9.4.0)\n",
      "Requirement already satisfied: contourpy>=1.0.1 in /Users/joaojunior/.pyenv/versions/alura/lib/python3.10/site-packages (from matplotlib) (1.0.7)\n",
      "Requirement already satisfied: fonttools>=4.22.0 in /Users/joaojunior/.pyenv/versions/alura/lib/python3.10/site-packages (from matplotlib) (4.38.0)\n",
      "Requirement already satisfied: packaging>=20.0 in /Users/joaojunior/.pyenv/versions/alura/lib/python3.10/site-packages (from matplotlib) (23.0)\n",
      "Requirement already satisfied: kiwisolver>=1.0.1 in /Users/joaojunior/.pyenv/versions/alura/lib/python3.10/site-packages (from matplotlib) (1.4.4)\n",
      "Requirement already satisfied: numpy>=1.20 in /Users/joaojunior/.pyenv/versions/alura/lib/python3.10/site-packages (from matplotlib) (1.24.2)\n",
      "Requirement already satisfied: python-dateutil>=2.7 in /Users/joaojunior/.pyenv/versions/alura/lib/python3.10/site-packages (from matplotlib) (2.8.2)\n",
      "Requirement already satisfied: six>=1.5 in /Users/joaojunior/.pyenv/versions/alura/lib/python3.10/site-packages (from python-dateutil>=2.7->matplotlib) (1.16.0)\n",
      "\n",
      "\u001b[1m[\u001b[0m\u001b[34;49mnotice\u001b[0m\u001b[1;39;49m]\u001b[0m\u001b[39;49m A new release of pip is available: \u001b[0m\u001b[31;49m23.0\u001b[0m\u001b[39;49m -> \u001b[0m\u001b[32;49m23.0.1\u001b[0m\n",
      "\u001b[1m[\u001b[0m\u001b[34;49mnotice\u001b[0m\u001b[1;39;49m]\u001b[0m\u001b[39;49m To update, run: \u001b[0m\u001b[32;49mpip install --upgrade pip\u001b[0m\n"
     ]
    },
    {
     "name": "stderr",
     "output_type": "stream",
     "text": [
      "189181.57s - pydevd: Sending message related to process being replaced timed-out after 5 seconds\n"
     ]
    },
    {
     "name": "stdout",
     "output_type": "stream",
     "text": [
      "Requirement already satisfied: seaborn in /Users/joaojunior/.pyenv/versions/alura/lib/python3.10/site-packages (0.12.2)\n",
      "Requirement already satisfied: matplotlib!=3.6.1,>=3.1 in /Users/joaojunior/.pyenv/versions/alura/lib/python3.10/site-packages (from seaborn) (3.7.1)\n",
      "Requirement already satisfied: pandas>=0.25 in /Users/joaojunior/.pyenv/versions/alura/lib/python3.10/site-packages (from seaborn) (1.5.3)\n",
      "Requirement already satisfied: numpy!=1.24.0,>=1.17 in /Users/joaojunior/.pyenv/versions/alura/lib/python3.10/site-packages (from seaborn) (1.24.2)\n",
      "Requirement already satisfied: kiwisolver>=1.0.1 in /Users/joaojunior/.pyenv/versions/alura/lib/python3.10/site-packages (from matplotlib!=3.6.1,>=3.1->seaborn) (1.4.4)\n",
      "Requirement already satisfied: contourpy>=1.0.1 in /Users/joaojunior/.pyenv/versions/alura/lib/python3.10/site-packages (from matplotlib!=3.6.1,>=3.1->seaborn) (1.0.7)\n",
      "Requirement already satisfied: pillow>=6.2.0 in /Users/joaojunior/.pyenv/versions/alura/lib/python3.10/site-packages (from matplotlib!=3.6.1,>=3.1->seaborn) (9.4.0)\n",
      "Requirement already satisfied: python-dateutil>=2.7 in /Users/joaojunior/.pyenv/versions/alura/lib/python3.10/site-packages (from matplotlib!=3.6.1,>=3.1->seaborn) (2.8.2)\n",
      "Requirement already satisfied: pyparsing>=2.3.1 in /Users/joaojunior/.pyenv/versions/alura/lib/python3.10/site-packages (from matplotlib!=3.6.1,>=3.1->seaborn) (3.0.9)\n",
      "Requirement already satisfied: packaging>=20.0 in /Users/joaojunior/.pyenv/versions/alura/lib/python3.10/site-packages (from matplotlib!=3.6.1,>=3.1->seaborn) (23.0)\n",
      "Requirement already satisfied: cycler>=0.10 in /Users/joaojunior/.pyenv/versions/alura/lib/python3.10/site-packages (from matplotlib!=3.6.1,>=3.1->seaborn) (0.11.0)\n",
      "Requirement already satisfied: fonttools>=4.22.0 in /Users/joaojunior/.pyenv/versions/alura/lib/python3.10/site-packages (from matplotlib!=3.6.1,>=3.1->seaborn) (4.38.0)\n",
      "Requirement already satisfied: pytz>=2020.1 in /Users/joaojunior/.pyenv/versions/alura/lib/python3.10/site-packages (from pandas>=0.25->seaborn) (2022.7.1)\n",
      "Requirement already satisfied: six>=1.5 in /Users/joaojunior/.pyenv/versions/alura/lib/python3.10/site-packages (from python-dateutil>=2.7->matplotlib!=3.6.1,>=3.1->seaborn) (1.16.0)\n",
      "\n",
      "\u001b[1m[\u001b[0m\u001b[34;49mnotice\u001b[0m\u001b[1;39;49m]\u001b[0m\u001b[39;49m A new release of pip is available: \u001b[0m\u001b[31;49m23.0\u001b[0m\u001b[39;49m -> \u001b[0m\u001b[32;49m23.0.1\u001b[0m\n",
      "\u001b[1m[\u001b[0m\u001b[34;49mnotice\u001b[0m\u001b[1;39;49m]\u001b[0m\u001b[39;49m To update, run: \u001b[0m\u001b[32;49mpip install --upgrade pip\u001b[0m\n"
     ]
    },
    {
     "name": "stderr",
     "output_type": "stream",
     "text": [
      "189187.95s - pydevd: Sending message related to process being replaced timed-out after 5 seconds\n"
     ]
    },
    {
     "name": "stdout",
     "output_type": "stream",
     "text": [
      "Requirement already satisfied: scipy in /Users/joaojunior/.pyenv/versions/alura/lib/python3.10/site-packages (1.10.1)\n",
      "Requirement already satisfied: numpy<1.27.0,>=1.19.5 in /Users/joaojunior/.pyenv/versions/alura/lib/python3.10/site-packages (from scipy) (1.24.2)\n",
      "\n",
      "\u001b[1m[\u001b[0m\u001b[34;49mnotice\u001b[0m\u001b[1;39;49m]\u001b[0m\u001b[39;49m A new release of pip is available: \u001b[0m\u001b[31;49m23.0\u001b[0m\u001b[39;49m -> \u001b[0m\u001b[32;49m23.0.1\u001b[0m\n",
      "\u001b[1m[\u001b[0m\u001b[34;49mnotice\u001b[0m\u001b[1;39;49m]\u001b[0m\u001b[39;49m To update, run: \u001b[0m\u001b[32;49mpip install --upgrade pip\u001b[0m\n"
     ]
    },
    {
     "name": "stderr",
     "output_type": "stream",
     "text": [
      "189194.39s - pydevd: Sending message related to process being replaced timed-out after 5 seconds\n"
     ]
    },
    {
     "name": "stdout",
     "output_type": "stream",
     "text": [
      "ERROR: unknown command \"statsmodels\"\n"
     ]
    }
   ],
   "source": [
    "import sys\n",
    "!{sys.executable} -m pip install numpy\n",
    "!{sys.executable} -m pip install pandas\n",
    "!{sys.executable} -m pip install matplotlib\n",
    "!{sys.executable} -m pip install seaborn\n",
    "!{sys.executable} -m pip install scipy\n",
    "!{sys.executable} -m pip statsmodels"
   ]
  },
  {
   "cell_type": "code",
   "execution_count": 1,
   "id": "39ff27a2-6224-4e9d-aac0-d00515f4cd8f",
   "metadata": {
    "tags": []
   },
   "outputs": [],
   "source": [
    "import numpy as np\n",
    "import pandas as pd\n",
    "import seaborn as sns\n",
    "from scipy.stats import binom, norm, poisson, wilcoxon, mannwhitneyu, chisquare\n",
    "from statsmodels.stats.weightstats import DescrStatsW, CompareMeans, ztest"
   ]
  },
  {
   "cell_type": "markdown",
   "id": "acf0857e-e8c8-4834-86ce-7d6d1fe6977d",
   "metadata": {
    "tags": []
   },
   "source": [
    "# Materiais"
   ]
  },
  {
   "cell_type": "markdown",
   "id": "d7d11c00-334a-43b0-b437-af2273ebec3f",
   "metadata": {
    "tags": []
   },
   "source": [
    "\n",
    "## Python\n",
    "- [PyLadies Brasil](https://brasil.pyladies.com/)\n",
    "- [PythonparaZumbis](https://www.youtube.com/@PythonparaZumbis)\n",
    "- [Live de Python](https://www.youtube.com/@Dunossauro)\n",
    "\n",
    "## Estatística\n",
    "- [Probabilidade: Um Curso Moderno com Aplicações](https://www.amazon.com.br/Probabilidade-Curso-Moderno-com-Aplica%C3%A7%C3%B5es/dp/8577806219)\n",
    "- [Estatística Aplicada e Probabilidade para Engenheiros](https://a.co/d/jjWVYTP)\n",
    "- [Introdução à Inferência Estatística](https://loja.sbm.org.br/introduc-o-a-inferencia-estatistica.html)\n",
    "\n",
    "## Base de dados\n",
    "- [Brasil.io](https://brasil.io/datasets/)\n"
   ]
  },
  {
   "cell_type": "markdown",
   "id": "f3718de9-8deb-49f1-8cb1-bd2f33e3941a",
   "metadata": {},
   "source": [
    "## Bibliotecas e funções utilizadas\n",
    "\n",
    "### Distribuições\n",
    "- [scipy.stats.norm](https://docs.scipy.org/doc/scipy/reference/generated/scipy.stats.norm.html)\n",
    "- [scipy.stats.binom](https://docs.scipy.org/doc/scipy/reference/generated/scipy.stats.binom.html)\n",
    "- [scipy.stats.poisson](https://docs.scipy.org/doc/scipy/reference/generated/scipy.stats.poisson.html)\n",
    "\n",
    "### Testes\n",
    "- [weightstats.ztest - Comparar a média de uma amostra com um determinado valor](https://www.statsmodels.org/stable/generated/statsmodels.stats.weightstats.ztest.html)\n",
    "- [weightstats.DescrStatsW.ztest_mean - O mesmo que o ztest acima](https://www.statsmodels.org/dev/generated/statsmodels.stats.weightstats.DescrStatsW.ztest_mean.html)\n",
    "- [CompareMeans - Comparar as médias entre duas amostras](https://www.statsmodels.org/dev/generated/statsmodels.stats.weightstats.CompareMeans.html)\n",
    "- [scipy.stats.wilcoxon - Comparar as médias de duas amostras dependentes, teste não paramétrico](https://docs.scipy.org/doc/scipy/reference/generated/scipy.stats.wilcoxon.html#scipy-stats-wilcoxon)\n",
    "- [scipy.stats.mannwhitneyu - Comparar as médias de duas amostras independentes, teste não paramétrico](https://docs.scipy.org/doc/scipy/reference/generated/scipy.stats.mannwhitneyu.html)\n",
    "- [scipy.stats.chisquare - Comparar os valores observados e esperados](https://docs.scipy.org/doc/scipy/reference/generated/scipy.stats.chisquare.html)"
   ]
  },
  {
   "cell_type": "markdown",
   "id": "a160f4ff-8cb6-4ef6-9427-f973c8fae823",
   "metadata": {},
   "source": [
    "# Dados"
   ]
  },
  {
   "cell_type": "code",
   "execution_count": 4,
   "id": "5a3a03a6-504b-464e-a221-1c085519178d",
   "metadata": {
    "tags": []
   },
   "outputs": [],
   "source": [
    "dados = pd.read_csv('https://zenodo.org/record/6387869/files/Censo_Edu_Superior_Sinopses115e117_Anos2015a2020.csv?download=1')"
   ]
  },
  {
   "cell_type": "code",
   "execution_count": 63,
   "id": "1e067076-8e37-4f13-8e16-89aee69f163a",
   "metadata": {
    "tags": []
   },
   "outputs": [
    {
     "name": "stdout",
     "output_type": "stream",
     "text": [
      "Numero de linhas: 44254\n",
      "Numero de colunas: 26\n",
      "OBS                   int64\n",
      "CURSO                object\n",
      "UF_NOME              object\n",
      "UF_SIGLA             object\n",
      "ANO                   int64\n",
      "TIPO_INST            object\n",
      "N_INST                int64\n",
      "N_CURS                int64\n",
      "MAT                   int64\n",
      "CONC                  int64\n",
      "VAG                 float64\n",
      "CAND_INSC           float64\n",
      "SEL_VAG_NOV_OFER      int64\n",
      "SEL_VAG_NOV_INSC      int64\n",
      "SEL_PRO_ESP_OFER      int64\n",
      "SEL_PRO_ESP_INSC      int64\n",
      "SEL_REM_VAG_OFER      int64\n",
      "SEL_REM_CAN_INSC      int64\n",
      "ING_PRO_SELE          int64\n",
      "ING_SEL_ESPE          int64\n",
      "ING_SEL_REMA          int64\n",
      "ING_OUTR              int64\n",
      "MAT_TRAN              int64\n",
      "MAT_DESV              int64\n",
      "ALU_TRANS             int64\n",
      "ALU_FALE              int64\n",
      "dtype: object\n"
     ]
    },
    {
     "data": {
      "text/html": [
       "<div>\n",
       "<style scoped>\n",
       "    .dataframe tbody tr th:only-of-type {\n",
       "        vertical-align: middle;\n",
       "    }\n",
       "\n",
       "    .dataframe tbody tr th {\n",
       "        vertical-align: top;\n",
       "    }\n",
       "\n",
       "    .dataframe thead th {\n",
       "        text-align: right;\n",
       "    }\n",
       "</style>\n",
       "<table border=\"1\" class=\"dataframe\">\n",
       "  <thead>\n",
       "    <tr style=\"text-align: right;\">\n",
       "      <th></th>\n",
       "      <th>OBS</th>\n",
       "      <th>CURSO</th>\n",
       "      <th>UF_NOME</th>\n",
       "      <th>UF_SIGLA</th>\n",
       "      <th>ANO</th>\n",
       "      <th>TIPO_INST</th>\n",
       "      <th>N_INST</th>\n",
       "      <th>N_CURS</th>\n",
       "      <th>MAT</th>\n",
       "      <th>CONC</th>\n",
       "      <th>...</th>\n",
       "      <th>SEL_REM_VAG_OFER</th>\n",
       "      <th>SEL_REM_CAN_INSC</th>\n",
       "      <th>ING_PRO_SELE</th>\n",
       "      <th>ING_SEL_ESPE</th>\n",
       "      <th>ING_SEL_REMA</th>\n",
       "      <th>ING_OUTR</th>\n",
       "      <th>MAT_TRAN</th>\n",
       "      <th>MAT_DESV</th>\n",
       "      <th>ALU_TRANS</th>\n",
       "      <th>ALU_FALE</th>\n",
       "    </tr>\n",
       "  </thead>\n",
       "  <tbody>\n",
       "    <tr>\n",
       "      <th>0</th>\n",
       "      <td>1</td>\n",
       "      <td>ABI Artes e humanidades</td>\n",
       "      <td>Acre</td>\n",
       "      <td>AC</td>\n",
       "      <td>2020</td>\n",
       "      <td>PUBLICA</td>\n",
       "      <td>1</td>\n",
       "      <td>0</td>\n",
       "      <td>14</td>\n",
       "      <td>0</td>\n",
       "      <td>...</td>\n",
       "      <td>20</td>\n",
       "      <td>5</td>\n",
       "      <td>35</td>\n",
       "      <td>0</td>\n",
       "      <td>0</td>\n",
       "      <td>0</td>\n",
       "      <td>29</td>\n",
       "      <td>2</td>\n",
       "      <td>1</td>\n",
       "      <td>0</td>\n",
       "    </tr>\n",
       "    <tr>\n",
       "      <th>1</th>\n",
       "      <td>2</td>\n",
       "      <td>ABI Artes e humanidades</td>\n",
       "      <td>Pará</td>\n",
       "      <td>PA</td>\n",
       "      <td>2020</td>\n",
       "      <td>PUBLICA</td>\n",
       "      <td>1</td>\n",
       "      <td>0</td>\n",
       "      <td>5</td>\n",
       "      <td>0</td>\n",
       "      <td>...</td>\n",
       "      <td>0</td>\n",
       "      <td>0</td>\n",
       "      <td>60</td>\n",
       "      <td>0</td>\n",
       "      <td>0</td>\n",
       "      <td>0</td>\n",
       "      <td>79</td>\n",
       "      <td>7</td>\n",
       "      <td>66</td>\n",
       "      <td>0</td>\n",
       "    </tr>\n",
       "    <tr>\n",
       "      <th>2</th>\n",
       "      <td>3</td>\n",
       "      <td>ABI Artes e humanidades</td>\n",
       "      <td>Bahia</td>\n",
       "      <td>BA</td>\n",
       "      <td>2020</td>\n",
       "      <td>PUBLICA</td>\n",
       "      <td>1</td>\n",
       "      <td>0</td>\n",
       "      <td>38</td>\n",
       "      <td>0</td>\n",
       "      <td>...</td>\n",
       "      <td>90</td>\n",
       "      <td>90</td>\n",
       "      <td>307</td>\n",
       "      <td>0</td>\n",
       "      <td>87</td>\n",
       "      <td>0</td>\n",
       "      <td>2313</td>\n",
       "      <td>51</td>\n",
       "      <td>60</td>\n",
       "      <td>0</td>\n",
       "    </tr>\n",
       "    <tr>\n",
       "      <th>3</th>\n",
       "      <td>4</td>\n",
       "      <td>ABI Artes e humanidades</td>\n",
       "      <td>Minas Gerais</td>\n",
       "      <td>MG</td>\n",
       "      <td>2020</td>\n",
       "      <td>PUBLICA</td>\n",
       "      <td>4</td>\n",
       "      <td>0</td>\n",
       "      <td>1817</td>\n",
       "      <td>0</td>\n",
       "      <td>...</td>\n",
       "      <td>508</td>\n",
       "      <td>319</td>\n",
       "      <td>972</td>\n",
       "      <td>0</td>\n",
       "      <td>137</td>\n",
       "      <td>5</td>\n",
       "      <td>526</td>\n",
       "      <td>180</td>\n",
       "      <td>776</td>\n",
       "      <td>0</td>\n",
       "    </tr>\n",
       "    <tr>\n",
       "      <th>4</th>\n",
       "      <td>5</td>\n",
       "      <td>ABI Artes e humanidades</td>\n",
       "      <td>Espírito Santo</td>\n",
       "      <td>ES</td>\n",
       "      <td>2020</td>\n",
       "      <td>PUBLICA</td>\n",
       "      <td>1</td>\n",
       "      <td>0</td>\n",
       "      <td>100</td>\n",
       "      <td>0</td>\n",
       "      <td>...</td>\n",
       "      <td>4</td>\n",
       "      <td>40</td>\n",
       "      <td>2</td>\n",
       "      <td>0</td>\n",
       "      <td>2</td>\n",
       "      <td>0</td>\n",
       "      <td>0</td>\n",
       "      <td>25</td>\n",
       "      <td>34</td>\n",
       "      <td>0</td>\n",
       "    </tr>\n",
       "  </tbody>\n",
       "</table>\n",
       "<p>5 rows × 26 columns</p>\n",
       "</div>"
      ],
      "text/plain": [
       "   OBS                    CURSO         UF_NOME UF_SIGLA   ANO TIPO_INST  \\\n",
       "0    1  ABI Artes e humanidades            Acre       AC  2020   PUBLICA   \n",
       "1    2  ABI Artes e humanidades            Pará       PA  2020   PUBLICA   \n",
       "2    3  ABI Artes e humanidades           Bahia       BA  2020   PUBLICA   \n",
       "3    4  ABI Artes e humanidades    Minas Gerais       MG  2020   PUBLICA   \n",
       "4    5  ABI Artes e humanidades  Espírito Santo       ES  2020   PUBLICA   \n",
       "\n",
       "   N_INST  N_CURS   MAT  CONC  ...  SEL_REM_VAG_OFER  SEL_REM_CAN_INSC  \\\n",
       "0       1       0    14     0  ...                20                 5   \n",
       "1       1       0     5     0  ...                 0                 0   \n",
       "2       1       0    38     0  ...                90                90   \n",
       "3       4       0  1817     0  ...               508               319   \n",
       "4       1       0   100     0  ...                 4                40   \n",
       "\n",
       "   ING_PRO_SELE  ING_SEL_ESPE  ING_SEL_REMA  ING_OUTR  MAT_TRAN  MAT_DESV  \\\n",
       "0            35             0             0         0        29         2   \n",
       "1            60             0             0         0        79         7   \n",
       "2           307             0            87         0      2313        51   \n",
       "3           972             0           137         5       526       180   \n",
       "4             2             0             2         0         0        25   \n",
       "\n",
       "   ALU_TRANS  ALU_FALE  \n",
       "0          1         0  \n",
       "1         66         0  \n",
       "2         60         0  \n",
       "3        776         0  \n",
       "4         34         0  \n",
       "\n",
       "[5 rows x 26 columns]"
      ]
     },
     "execution_count": 63,
     "metadata": {},
     "output_type": "execute_result"
    }
   ],
   "source": [
    "print(f'Numero de linhas: {dados.shape[0]}\\nNumero de colunas: {dados.shape[1]}')\n",
    "print(dados.dtypes)\n",
    "dados.head()"
   ]
  },
  {
   "cell_type": "markdown",
   "id": "0bb3e946-a1b9-4852-b71f-d5f49625c047",
   "metadata": {
    "tags": []
   },
   "source": [
    "# Dúvidas"
   ]
  },
  {
   "cell_type": "markdown",
   "id": "b1db82fb-01cd-4517-b517-bc99570263fd",
   "metadata": {
    "tags": []
   },
   "source": [
    "## Opinião\n",
    "1. Como aprender Python de uma forma mais intuitiva? eu costumo\n",
    "relacionar com algo, mas estou tendo dificuldade ao longo que vai\n",
    "ficando mais complexo.\n",
    "2. Se eu conseguir fazer as coisas, mas ainda assim precisando pesquisar.\n",
    "Significa que eu não estou evoluindo?\n",
    "3. Olá, gostaria de saber se vocês têm alguma indicação de livro para se\n",
    "aprofundar na teoria de estatística?"
   ]
  },
  {
   "cell_type": "markdown",
   "id": "e378606f-8f88-4a0f-a1aa-92aa31ec6d63",
   "metadata": {
    "tags": []
   },
   "source": [
    "## Python e Pandas\n"
   ]
  },
  {
   "cell_type": "markdown",
   "id": "3eac4041-40d5-4a01-b074-e288e784b445",
   "metadata": {
    "tags": []
   },
   "source": [
    "### 1. Estou com dificuldade em fazer o tramento dos dados nos dataframes,\n",
    "como por exemplo, substituir dados em object, e transformar em inteiros,\n",
    "para poder criar relatórios, tirar médias, medianas e modas, etc."
   ]
  },
  {
   "cell_type": "code",
   "execution_count": 94,
   "id": "b048c6c0-4c99-4f1f-a3d4-1e09c97bf4b6",
   "metadata": {
    "tags": []
   },
   "outputs": [],
   "source": [
    "media = dados.MAT.mean()\n",
    "\n",
    "# Usando funcoes anonimas para converter MAT para string e depois para int novamente\n",
    "assert media != dados.MAT.apply(lambda x: str(x)).mean()\n",
    "assert media == dados.MAT.apply(lambda x: int(x)).mean()\n",
    "\n",
    "#usando funcoes para converter MAT para string e depois para int novamente\n",
    "def converte_int_to_str(num):\n",
    "    return str(num)\n",
    "\n",
    "def converte_str_to_int(s):\n",
    "    return int(s)\n",
    "\n",
    "assert media != dados.MAT.apply(converte_int_to_str).mean()\n",
    "assert media == dados.MAT.apply(converte_str_to_int).mean()"
   ]
  },
  {
   "cell_type": "markdown",
   "id": "52ff8477-57bd-4e9d-9f53-ad85518ddb60",
   "metadata": {
    "tags": []
   },
   "source": [
    "### 2. Gostaria que o tema \"Histograma\" e \"Formas Gráficas de uma\n",
    "distribuição de frequências fosse revisado\""
   ]
  },
  {
   "cell_type": "code",
   "execution_count": 112,
   "id": "6888752f-31ba-4dea-854f-69552ae4f802",
   "metadata": {
    "tags": []
   },
   "outputs": [
    {
     "data": {
      "text/html": [
       "<div>\n",
       "<style scoped>\n",
       "    .dataframe tbody tr th:only-of-type {\n",
       "        vertical-align: middle;\n",
       "    }\n",
       "\n",
       "    .dataframe tbody tr th {\n",
       "        vertical-align: top;\n",
       "    }\n",
       "\n",
       "    .dataframe thead th {\n",
       "        text-align: right;\n",
       "    }\n",
       "</style>\n",
       "<table border=\"1\" class=\"dataframe\">\n",
       "  <thead>\n",
       "    <tr style=\"text-align: right;\">\n",
       "      <th>ANO</th>\n",
       "      <th>Frequencia</th>\n",
       "      <th>%</th>\n",
       "    </tr>\n",
       "  </thead>\n",
       "  <tbody>\n",
       "    <tr>\n",
       "      <th>2020</th>\n",
       "      <td>10864</td>\n",
       "      <td>24.549193</td>\n",
       "    </tr>\n",
       "    <tr>\n",
       "      <th>2019</th>\n",
       "      <td>10280</td>\n",
       "      <td>23.229539</td>\n",
       "    </tr>\n",
       "    <tr>\n",
       "      <th>2018</th>\n",
       "      <td>9504</td>\n",
       "      <td>21.476025</td>\n",
       "    </tr>\n",
       "    <tr>\n",
       "      <th>2016</th>\n",
       "      <td>4550</td>\n",
       "      <td>10.281556</td>\n",
       "    </tr>\n",
       "    <tr>\n",
       "      <th>2017</th>\n",
       "      <td>4548</td>\n",
       "      <td>10.277037</td>\n",
       "    </tr>\n",
       "    <tr>\n",
       "      <th>2015</th>\n",
       "      <td>4508</td>\n",
       "      <td>10.186650</td>\n",
       "    </tr>\n",
       "  </tbody>\n",
       "</table>\n",
       "</div>"
      ],
      "text/plain": [
       "ANO   Frequencia          %\n",
       "2020       10864  24.549193\n",
       "2019       10280  23.229539\n",
       "2018        9504  21.476025\n",
       "2016        4550  10.281556\n",
       "2017        4548  10.277037\n",
       "2015        4508  10.186650"
      ]
     },
     "execution_count": 112,
     "metadata": {},
     "output_type": "execute_result"
    }
   ],
   "source": [
    "# Calcula distribuicao de frequencia absoluta e relativa por ano\n",
    "distribuicao_frequencia = dados.ANO.value_counts()\n",
    "distribuicao_frequencia_relativa = dados.ANO.value_counts(normalize=True) * 100\n",
    "pd.DataFrame({'Frequencia': distribuicao_frequencia,\n",
    "              '%': distribuicao_frequencia_relativa}).rename_axis('ANO', axis=1)"
   ]
  },
  {
   "cell_type": "code",
   "execution_count": 27,
   "id": "4a12a6ab-a4a6-4c48-9c47-2d3dccb8b20d",
   "metadata": {
    "tags": []
   },
   "outputs": [
    {
     "data": {
      "text/html": [
       "<div>\n",
       "<style scoped>\n",
       "    .dataframe tbody tr th:only-of-type {\n",
       "        vertical-align: middle;\n",
       "    }\n",
       "\n",
       "    .dataframe tbody tr th {\n",
       "        vertical-align: top;\n",
       "    }\n",
       "\n",
       "    .dataframe thead th {\n",
       "        text-align: right;\n",
       "    }\n",
       "</style>\n",
       "<table border=\"1\" class=\"dataframe\">\n",
       "  <thead>\n",
       "    <tr style=\"text-align: right;\">\n",
       "      <th>TIPO_INST</th>\n",
       "      <th>PRIVADA</th>\n",
       "      <th>PUBLICA</th>\n",
       "    </tr>\n",
       "    <tr>\n",
       "      <th>ANO</th>\n",
       "      <th></th>\n",
       "      <th></th>\n",
       "    </tr>\n",
       "  </thead>\n",
       "  <tbody>\n",
       "    <tr>\n",
       "      <th>2015</th>\n",
       "      <td>1952145</td>\n",
       "      <td>8027297</td>\n",
       "    </tr>\n",
       "    <tr>\n",
       "      <th>2016</th>\n",
       "      <td>1990078</td>\n",
       "      <td>8048701</td>\n",
       "    </tr>\n",
       "    <tr>\n",
       "      <th>2017</th>\n",
       "      <td>2045356</td>\n",
       "      <td>8286338</td>\n",
       "    </tr>\n",
       "    <tr>\n",
       "      <th>2018</th>\n",
       "      <td>2077481</td>\n",
       "      <td>8449521</td>\n",
       "    </tr>\n",
       "    <tr>\n",
       "      <th>2019</th>\n",
       "      <td>2080146</td>\n",
       "      <td>8601965</td>\n",
       "    </tr>\n",
       "    <tr>\n",
       "      <th>2020</th>\n",
       "      <td>1956352</td>\n",
       "      <td>8678000</td>\n",
       "    </tr>\n",
       "  </tbody>\n",
       "</table>\n",
       "</div>"
      ],
      "text/plain": [
       "TIPO_INST  PRIVADA  PUBLICA\n",
       "ANO                        \n",
       "2015       1952145  8027297\n",
       "2016       1990078  8048701\n",
       "2017       2045356  8286338\n",
       "2018       2077481  8449521\n",
       "2019       2080146  8601965\n",
       "2020       1956352  8678000"
      ]
     },
     "execution_count": 27,
     "metadata": {},
     "output_type": "execute_result"
    }
   ],
   "source": [
    "# Calcula distribuicao de frequencia da variavel MAT agrupada por ano e tipo da instituicao\n",
    "matriculas_por_ano_e_instituicao = pd.crosstab(\n",
    "    dados.ANO, dados.TIPO_INST, aggfunc='sum', values=dados.MAT\n",
    ")\n",
    "matriculas_por_ano_e_instituicao"
   ]
  },
  {
   "cell_type": "code",
   "execution_count": 70,
   "id": "c4b5df74-b71d-4898-a3ae-b7ba4ced1a6d",
   "metadata": {
    "tags": []
   },
   "outputs": [
    {
     "data": {
      "text/html": [
       "<div>\n",
       "<style scoped>\n",
       "    .dataframe tbody tr th:only-of-type {\n",
       "        vertical-align: middle;\n",
       "    }\n",
       "\n",
       "    .dataframe tbody tr th {\n",
       "        vertical-align: top;\n",
       "    }\n",
       "\n",
       "    .dataframe thead th {\n",
       "        text-align: right;\n",
       "    }\n",
       "</style>\n",
       "<table border=\"1\" class=\"dataframe\">\n",
       "  <thead>\n",
       "    <tr style=\"text-align: right;\">\n",
       "      <th></th>\n",
       "      <th>MAT Frequencia</th>\n",
       "      <th>MAT Frequencia %</th>\n",
       "    </tr>\n",
       "  </thead>\n",
       "  <tbody>\n",
       "    <tr>\n",
       "      <th>0 - 20</th>\n",
       "      <td>11385</td>\n",
       "      <td>25.726488</td>\n",
       "    </tr>\n",
       "    <tr>\n",
       "      <th>20 - 40</th>\n",
       "      <td>1357</td>\n",
       "      <td>3.066389</td>\n",
       "    </tr>\n",
       "    <tr>\n",
       "      <th>40 - 60</th>\n",
       "      <td>1153</td>\n",
       "      <td>2.605414</td>\n",
       "    </tr>\n",
       "    <tr>\n",
       "      <th>60 - 100</th>\n",
       "      <td>2496</td>\n",
       "      <td>5.640168</td>\n",
       "    </tr>\n",
       "    <tr>\n",
       "      <th>&gt;100</th>\n",
       "      <td>27863</td>\n",
       "      <td>62.961540</td>\n",
       "    </tr>\n",
       "  </tbody>\n",
       "</table>\n",
       "</div>"
      ],
      "text/plain": [
       "          MAT Frequencia  MAT Frequencia %\n",
       "0 - 20             11385         25.726488\n",
       "20 - 40             1357          3.066389\n",
       "40 - 60             1153          2.605414\n",
       "60 - 100            2496          5.640168\n",
       ">100               27863         62.961540"
      ]
     },
     "execution_count": 70,
     "metadata": {},
     "output_type": "execute_result"
    }
   ],
   "source": [
    "#Calcula a distribuicao de frequencia absoluta e relativa agrupando MAT\n",
    "bins = [0, 20, 40, 60, 100, dados.MAT.max()]\n",
    "labels = ['0 - 20', '20 - 40', '40 - 60', '60 - 100', '>100']\n",
    "mat_frequencia = pd.value_counts(\n",
    "    pd.cut(dados.MAT,\n",
    "       bins = bins,\n",
    "       labels = labels,\n",
    "       include_lowest = True\n",
    "      )\n",
    "    ).sort_index()\n",
    "mat_frequencia_relativa = pd.value_counts(\n",
    "    pd.cut(dados.MAT,\n",
    "       bins = bins,\n",
    "       labels = labels,\n",
    "       include_lowest = True\n",
    "      ),\n",
    "    normalize = True\n",
    "    ).sort_index() * 100\n",
    "pd.DataFrame({'MAT Frequencia': mat_frequencia, 'MAT Frequencia %': mat_frequencia_relativa  })"
   ]
  },
  {
   "cell_type": "code",
   "execution_count": 76,
   "id": "0e8ae528-f741-4889-bbd3-9fb6e0495a97",
   "metadata": {
    "tags": []
   },
   "outputs": [
    {
     "data": {
      "text/plain": [
       "<seaborn.axisgrid.FacetGrid at 0x12ce06890>"
      ]
     },
     "execution_count": 76,
     "metadata": {},
     "output_type": "execute_result"
    },
    {
     "data": {
      "image/png": "[encoded data removed]",
      "text/plain": [
       "<Figure size 1200x600 with 1 Axes>"
      ]
     },
     "metadata": {},
     "output_type": "display_data"
    }
   ],
   "source": [
    "#Histograma de Matrículas\n",
    "ax = sns.displot(\n",
    "    pd.cut(dados.MAT,\n",
    "       bins = bins,\n",
    "       labels = labels,\n",
    "       include_lowest = True\n",
    "    ).sort_index()\n",
    ")\n",
    "ax.figure.set_size_inches(12,6)\n",
    "ax.set(title =\"Distribuição de Frequências - MAT\", xlabel='Quantidade')\n",
    "ax"
   ]
  },
  {
   "cell_type": "markdown",
   "id": "936c8af7-b494-42f2-9b6d-dd65a8198a2a",
   "metadata": {
    "tags": []
   },
   "source": [
    "## Probabilidade\n",
    "1. Seria mais uma revisão do assunto de probabilidade (interpretação para\n",
    "utilizar cada distribuição, principalmente)\n",
    "2. Não consigo entender o que é o \"z\" da tabela normal"
   ]
  },
  {
   "cell_type": "markdown",
   "id": "b2f5e37e-3105-4921-9ab4-0991d5de7e57",
   "metadata": {},
   "source": [
    "- Distribuição Binomial\n",
    "    - Usada para contagem de eventos discretos onde sabemos a probabilidade de sucesso e fracasso de um evento individual\n",
    "- Distribuição de Poisson\n",
    "    - Usada para contagem de eventos discrestos em um tempo ou espaço específico. O sucesso de um evento individual é fácil de se calcular, o fracasso é difícil de ser calculado.\n",
    "- Distribuição Normal\n",
    "    - Distribuição mais importante na estatística. Diferente das outras duas, a distribuição normal é uma distribuição contínua e é definida somente pela média e desvio padrão.\n",
    "    - Z é a variável padronizada. Z = (variável - média) / (desvio padrão). Em outras palavras a variável padronizada representa quantos desvios padrões a variável original se distancia da média.\n",
    "    - z é o ponto para uma dada propabilidade"
   ]
  },
  {
   "cell_type": "code",
   "execution_count": 126,
   "id": "51ef12c3-1b06-4718-9f91-643fbea0d191",
   "metadata": {
    "tags": []
   },
   "outputs": [
    {
     "name": "stdout",
     "output_type": "stream",
     "text": [
      "0.3750000000000001\n",
      "('A', 'A', 'A')\n",
      "('A', 'A', 'B')\n",
      "('A', 'B', 'B')\n",
      "('B', 'B', 'B')\n"
     ]
    },
    {
     "data": {
      "text/plain": [
       "0.375"
      ]
     },
     "execution_count": 126,
     "metadata": {},
     "output_type": "execute_result"
    }
   ],
   "source": [
    "# Probabilidade de jogar uma moeda 3 vezes e se obter 1 cara\n",
    "k = 1\n",
    "n = 3\n",
    "p = 1/2\n",
    "print(binom.pmf(k, n, p))\n",
    "\n",
    "from itertools import combinations_with_replacement\n",
    "combinations = combinations_with_replacement(['A', 'B'], n)\n",
    "total = 0\n",
    "for c in combinations:\n",
    "    print(c)\n",
    "    if len(set(c)) > 1:\n",
    "        total += n\n",
    "    else:\n",
    "        total += 1\n",
    "n/total"
   ]
  },
  {
   "cell_type": "code",
   "execution_count": 185,
   "id": "aeddef0b-435f-407f-a9c7-53d5c80768d1",
   "metadata": {
    "tags": []
   },
   "outputs": [
    {
     "name": "stdout",
     "output_type": "stream",
     "text": [
      "0.9750021048517795 1.959963984540054\n"
     ]
    },
    {
     "data": {
      "image/png": "[encoded data removed]",
      "text/plain": [
       "<Figure size 1200x600 with 1 Axes>"
      ]
     },
     "metadata": {},
     "output_type": "display_data"
    }
   ],
   "source": [
    "# Gera uma amostra normal de tamanho 1000 com média 0 e desvio padrão 1. \n",
    "# Gera também uma amostra normal de tamanho 1000 com média 10 e desvio padrão 2\n",
    "# Normaliza a segunda amostra, criando a variável z padronizada\n",
    "n = 1000\n",
    "np.random.seed(0)\n",
    "data = np.random.normal(loc=0.0, scale=1.0, size=n)\n",
    "media = 10\n",
    "desvio_padrao = 2\n",
    "data1 = np.random.normal(loc=media, scale=desvio_padrao, size=n)\n",
    "Z = (data1 - media) / desvio_padrao\n",
    "sns.displot(data=[data, data1, Z], kind='kde').figure.set_size_inches(12,6)\n",
    "\n",
    "print(norm.cdf(1.96), norm.ppf(0.975))"
   ]
  },
  {
   "cell_type": "code",
   "execution_count": 178,
   "id": "fb703a18-b313-4c98-90e0-b44437d41643",
   "metadata": {
    "tags": []
   },
   "outputs": [
    {
     "data": {
      "text/plain": [
       "1.7625171267712563"
      ]
     },
     "execution_count": 178,
     "metadata": {},
     "output_type": "execute_result"
    }
   ],
   "source": [
    "# Probabilidade de receber 12 perguntas em uma aula de uma hora, se em média o professor recebe 20\n",
    "#perguntas em uma aula de 1 hora\n",
    "\n",
    "media = 20\n",
    "k = 12\n",
    "poisson.pmf(k, media) * 100"
   ]
  },
  {
   "cell_type": "markdown",
   "id": "0762b5b5-20e1-4024-a52a-2a9b90ba70c1",
   "metadata": {
    "tags": []
   },
   "source": [
    "## Teste de hipóteses\n",
    "1. Nenhuma dúvida específica, mas tive mais dificuldades no curso de\n",
    "testes de hipóteses.\n",
    "2. Estou com um pouco de dificuldade nos tópicos de teste de hipóteses.\n",
    "3. Tenho dúvida no cálculo do p-valor, no teste bicaudal quando z é\n",
    "negativo o valor-p foi calculado usando modulo e quando z foi positivo o\n",
    "valor foi calculado diferente. Outra dúvida, a única forma de saber se é\n",
    "significativa a análise é calculando o p-valor? E se a resposta for que\n",
    "não é significante qual analise deve ser feita para ser significante?\n",
    "4. Em quais situações utilizar testes não paramétricos em vez de\n",
    "paramétricos (e vice-versa)? (trazer mais exemplos de aplicação dos\n",
    "testes, diferenças entre os resultados dos testes)\n",
    "5. Distribuição Qui-quadrado."
   ]
  },
  {
   "cell_type": "code",
   "execution_count": 240,
   "id": "6d59dc22-6617-4e92-a09a-8b9322eee5eb",
   "metadata": {
    "tags": []
   },
   "outputs": [
    {
     "data": {
      "text/plain": [
       "'Não podemos rejeitar H0: A amostra tem média igual a 10'"
      ]
     },
     "execution_count": 263,
     "metadata": {},
     "output_type": "execute_result"
    }
   ],
   "source": [
    "# Testando se a média de uma amostra é igual a um determinado valor\n",
    "# Hipótese nula(H0): A média da amostra é igual a variável media\n",
    "# Hipótese alternativa(H1): A média da amostra é diferente da variável media\n",
    "# Aqui estamos usando um teste bicaudal porque H1 é !=\n",
    "significancia = 0.05\n",
    "n = 1000\n",
    "np.random.seed(0)\n",
    "media = 10\n",
    "desvio_padrao = 2\n",
    "amostra = np.random.normal(loc=media, scale=desvio_padrao, size=n)\n",
    "estatistica_teste, p_valor = ztest(amostra, value=media)\n",
    "if p_valor <= significancia:\n",
    "    resultado = f'Rejeitar H0: A amostra não tem média igual a {media}'\n",
    "else:\n",
    "    resultado = f'Não podemos rejeitar H0'\n",
    "resultado"
   ]
  },
  {
   "cell_type": "code",
   "execution_count": 291,
   "id": "f9961800-8c5e-4a88-9833-68dc27584ac6",
   "metadata": {
    "tags": []
   },
   "outputs": [
    {
     "name": "stdout",
     "output_type": "stream",
     "text": [
      "media=7 -  Rejeitar H0: A amostra tem média maior do que 7\n",
      "media=8 -  Rejeitar H0: A amostra tem média maior do que 8\n",
      "media=9 -  Rejeitar H0: A amostra tem média maior do que 9\n",
      "media=10 -  Não podemos rejeitar H0: A amostra tem média igual a 10\n",
      "media=11 -  Não podemos rejeitar H0: A amostra tem média igual a 11\n",
      "media=12 -  Não podemos rejeitar H0: A amostra tem média igual a 12\n",
      "media=13 -  Não podemos rejeitar H0: A amostra tem média igual a 13\n"
     ]
    }
   ],
   "source": [
    "# Testando se a média de uma amostra é igual a um determinado valor\n",
    "# Hipótese nula(H0): A média da amostra é igual a variável i\n",
    "# Hipótese alternativa(H1): A média da amostra é maior do que a variável i\n",
    "# Aqui estamos usando um teste unicaudal superior porque H1 é >\n",
    "significancia = 0.05\n",
    "n = 1000\n",
    "np.random.seed(0)\n",
    "media = 10\n",
    "desvio_padrao = 2\n",
    "amostra = np.random.normal(loc=media, scale=desvio_padrao, size=n)\n",
    "for i in range(media - 3, media + 3 + 1):\n",
    "    estatistica_teste, p_valor = DescrStatsW(amostra).ztest_mean(value=i, alternative='larger')\n",
    "    if p_valor <= significancia:\n",
    "        resultado = f'Rejeitar H0: A amostra tem média maior do que {i}'\n",
    "    else:\n",
    "        resultado = f'Não podemos rejeitar H0'\n",
    "    print(f'media={i} - ', resultado)"
   ]
  },
  {
   "cell_type": "code",
   "execution_count": 292,
   "id": "717b3f85-83bb-450f-b7cd-df8c1ca53270",
   "metadata": {
    "tags": []
   },
   "outputs": [
    {
     "name": "stdout",
     "output_type": "stream",
     "text": [
      "media=7 -  Não podemos rejeitar H0: A amostra tem média igual a 7\n",
      "media=8 -  Não podemos rejeitar H0: A amostra tem média igual a 8\n",
      "media=9 -  Não podemos rejeitar H0: A amostra tem média igual a 9\n",
      "media=10 -  Não podemos rejeitar H0: A amostra tem média igual a 10\n",
      "media=11 -  Rejeitar H0: A amostra tem média menor do que 11\n",
      "media=12 -  Rejeitar H0: A amostra tem média menor do que 12\n",
      "media=13 -  Rejeitar H0: A amostra tem média menor do que 13\n"
     ]
    }
   ],
   "source": [
    "# Testando se a média de uma amostra é igual a um determinado valor\n",
    "# Hipótese nula(H0): A média da amostra é igual a variável i\n",
    "# Hipótese alternativa(H1): A média da amostra é menor do que a variável i\n",
    "# Aqui estamos usando um teste unicaudal inferior porque H1 é <\n",
    "significancia = 0.05\n",
    "n = 1000\n",
    "np.random.seed(0)\n",
    "media = 10\n",
    "desvio_padrao = 2\n",
    "amostra = np.random.normal(loc=media, scale=desvio_padrao, size=n)\n",
    "for i in range(media - 3, media + 3 + 1):\n",
    "    estatistica_teste, p_valor = DescrStatsW(amostra).ztest_mean(value=i, alternative='smaller')\n",
    "    if p_valor <= significancia:\n",
    "        resultado = f'Rejeitar H0: A amostra tem média menor do que {i}'\n",
    "    else:\n",
    "        resultado = f'Não podemos rejeitar H0'\n",
    "    print(f'media={i} - ', resultado)"
   ]
  },
  {
   "cell_type": "code",
   "execution_count": 309,
   "id": "8746e2f8-28c3-40d2-a948-8ab77707ee1a",
   "metadata": {
    "tags": []
   },
   "outputs": [
    {
     "name": "stdout",
     "output_type": "stream",
     "text": [
      "-1.34588759360279 0.1783387704888404\n"
     ]
    },
    {
     "data": {
      "text/plain": [
       "'Não podemos rejeitar H0: As duas amostras tem médias iguais'"
      ]
     },
     "execution_count": 309,
     "metadata": {},
     "output_type": "execute_result"
    }
   ],
   "source": [
    "# Testando se a média da variável normal com média 0 e desvio padrão 1\n",
    "# é igual a média da variável normal padronizada da variável normal \n",
    "# com média 10 e desvio padrao 2\n",
    "significancia = 0.05\n",
    "n = 1000\n",
    "np.random.seed(0)\n",
    "amostra_media_0 = np.random.normal(loc=0.0, scale=1.0, size=n)\n",
    "media = 10\n",
    "desvio_padrao = 2\n",
    "amostra_media_10 = np.random.normal(loc=media, scale=desvio_padrao, size=n)\n",
    "Z = (amostra_media_10 - media) / desvio_padrao\n",
    "comparar_medias = CompareMeans(DescrStatsW(amostra_media_0), DescrStatsW(Z))\n",
    "estatistica_teste, p_valor = comparar_medias.ztest_ind()\n",
    "print(estatistica_teste, p_valor)\n",
    "if p_valor <= significancia:\n",
    "    resultado = 'Rejeitar H0: As duas amostras tem médias diferentes'\n",
    "else:\n",
    "    resultado = 'Não podemos rejeitar H0'\n",
    "resultado"
   ]
  },
  {
   "cell_type": "code",
   "execution_count": 326,
   "id": "3ce08c48-c51a-4d14-af7f-b40ed06572d0",
   "metadata": {
    "tags": []
   },
   "outputs": [
    {
     "data": {
      "text/plain": [
       "'Rejeitar H0: A aula contribui para tirar as dúvidas dos alunos e aumentar a confiança delas no assunto :)'"
      ]
     },
     "execution_count": 326,
     "metadata": {},
     "output_type": "execute_result"
    }
   ],
   "source": [
    "#Testando, com um teste não paramétrico, se a média da confiança das alunas no curso de estatística é diferente.\n",
    "#Ou seja, a aula de tira-dúvidas teve um efeito na confiança das alunas\n",
    "confianca_antes = [1, 7, 5, 6, 4, 3, 2, 1, 3, 5, 1]\n",
    "confianca_depois = [9, 8, 7, 9, 8, 9, 6, 4, 2, 4, 1]\n",
    "significancia = 0.05\n",
    "estatistica_teste, p_valor = wilcoxon(confianca_antes, confianca_depois)\n",
    "if p_valor <= significancia:\n",
    "    resultado = 'Rejeitar H0: A aula contribui para tirar as dúvidas dos alunos e aumentar a confiança delas no assunto :)'\n",
    "else:\n",
    "    resultado = 'Não podemos rejeitar H0'\n",
    "resultado"
   ]
  },
  {
   "cell_type": "code",
   "execution_count": 352,
   "id": "a33623dc-3210-4ca2-acb9-569bc79ce551",
   "metadata": {
    "tags": []
   },
   "outputs": [
    {
     "data": {
      "text/plain": [
       "'Não podemos rejeitar H0: O número de matrícula no curso de Matemática Computacional é igual entre as universidades públicas e privadas'"
      ]
     },
     "execution_count": 352,
     "metadata": {},
     "output_type": "execute_result"
    }
   ],
   "source": [
    "#Testando, com um teste não paramétrico, se a média no número de matrículas no curso Matemática Computacional ao longo dos anos de estudos é igual entre as universidades\n",
    "#púplicas e privadas\n",
    "\n",
    "significancia = 0.05\n",
    "matematica_computacional_publica = dados.query('UF_SIGLA==\"MG\" and CURSO.str.contains(\"computacional\") and TIPO_INST==\"PUBLICA\"')\n",
    "matematica_computacional_privada = dados.query('UF_SIGLA==\"MG\" and CURSO.str.contains(\"computacional\") and TIPO_INST==\"PRIVADA\"')\n",
    "estatistica_teste, p_valor = mannwhitneyu(matematica_computacional_publica.MAT, matematica_computacional_privada.MAT)\n",
    "if p_valor <= significancia:\n",
    "    resultado = 'Rejeitar H0: O número de matrículas no curso Matemática Computacional é diferente entres as universidades públicas e privadas'\n",
    "else:\n",
    "    resultado = 'Não podemos rejeitar H0'\n",
    "resultado"
   ]
  },
  {
   "cell_type": "code",
   "execution_count": 364,
   "id": "82cc9863-9f8f-4107-84c1-d56c6d0b13b2",
   "metadata": {
    "tags": []
   },
   "outputs": [
    {
     "data": {
      "text/plain": [
       "'Rejeitar H0: O número de matrículas no curso Administração é diferente entres as universidades públicas e privadas'"
      ]
     },
     "execution_count": 364,
     "metadata": {},
     "output_type": "execute_result"
    }
   ],
   "source": [
    "#Testando, com um teste não paramétrico, se a média no número de matrículas no curso Administração ao longo dos anos de estudos é igual entre as universidades\n",
    "#púplicas e privadas\n",
    "\n",
    "significancia = 0.05\n",
    "administracao_publica = dados.query('UF_SIGLA==\"MG\" and CURSO == \"Administração\" and TIPO_INST==\"PUBLICA\"')\n",
    "administracao_privada = dados.query('UF_SIGLA==\"MG\" and CURSO == \"Administração\" and TIPO_INST==\"PRIVADA\"')\n",
    "estatistica_teste, p_valor = mannwhitneyu(administracao_publica.MAT, administracao_privada.MAT)\n",
    "if p_valor <= significancia:\n",
    "    resultado = 'Rejeitar H0: O número de matrículas no curso Administração é diferente entres as universidades públicas e privadas'\n",
    "else:\n",
    "    resultado = 'Não podemos rejeitar H0'\n",
    "resultado"
   ]
  },
  {
   "cell_type": "code",
   "execution_count": 135,
   "id": "62a53a72-d07a-4a05-83ff-c5592f7077d3",
   "metadata": {
    "tags": []
   },
   "outputs": [
    {
     "data": {
      "text/html": [
       "<div>\n",
       "<style scoped>\n",
       "    .dataframe tbody tr th:only-of-type {\n",
       "        vertical-align: middle;\n",
       "    }\n",
       "\n",
       "    .dataframe tbody tr th {\n",
       "        vertical-align: top;\n",
       "    }\n",
       "\n",
       "    .dataframe thead th {\n",
       "        text-align: right;\n",
       "    }\n",
       "</style>\n",
       "<table border=\"1\" class=\"dataframe\">\n",
       "  <thead>\n",
       "    <tr style=\"text-align: right;\">\n",
       "      <th>TIPO_INST</th>\n",
       "      <th>PRIVADA</th>\n",
       "      <th>PUBLICA</th>\n",
       "    </tr>\n",
       "    <tr>\n",
       "      <th>ANO</th>\n",
       "      <th></th>\n",
       "      <th></th>\n",
       "    </tr>\n",
       "  </thead>\n",
       "  <tbody>\n",
       "    <tr>\n",
       "      <th>2015</th>\n",
       "      <td>2254</td>\n",
       "      <td>2254</td>\n",
       "    </tr>\n",
       "    <tr>\n",
       "      <th>2016</th>\n",
       "      <td>2275</td>\n",
       "      <td>2275</td>\n",
       "    </tr>\n",
       "    <tr>\n",
       "      <th>2017</th>\n",
       "      <td>2274</td>\n",
       "      <td>2274</td>\n",
       "    </tr>\n",
       "    <tr>\n",
       "      <th>2018</th>\n",
       "      <td>4752</td>\n",
       "      <td>4752</td>\n",
       "    </tr>\n",
       "    <tr>\n",
       "      <th>2019</th>\n",
       "      <td>5140</td>\n",
       "      <td>5140</td>\n",
       "    </tr>\n",
       "    <tr>\n",
       "      <th>2020</th>\n",
       "      <td>5432</td>\n",
       "      <td>5432</td>\n",
       "    </tr>\n",
       "  </tbody>\n",
       "</table>\n",
       "</div>"
      ],
      "text/plain": [
       "TIPO_INST  PRIVADA  PUBLICA\n",
       "ANO                        \n",
       "2015          2254     2254\n",
       "2016          2275     2275\n",
       "2017          2274     2274\n",
       "2018          4752     4752\n",
       "2019          5140     5140\n",
       "2020          5432     5432"
      ]
     },
     "execution_count": 135,
     "metadata": {},
     "output_type": "execute_result"
    }
   ],
   "source": [
    "dados.groupby('ANO')['UF_SIGLA'].value_counts()\n",
    "pd.crosstab(dados.ANO, dados.TIPO_INST)"
   ]
  }
 ],
 "metadata": {
  "kernelspec": {
   "display_name": "Python 3 (ipykernel)",
   "language": "python",
   "name": "python3"
  },
  "language_info": {
   "codemirror_mode": {
    "name": "ipython",
    "version": 3
   },
   "file_extension": ".py",
   "mimetype": "text/x-python",
   "name": "python",
   "nbconvert_exporter": "python",
   "pygments_lexer": "ipython3",
   "version": "3.10.10"
  }
 },
 "nbformat": 4,
 "nbformat_minor": 5
}
